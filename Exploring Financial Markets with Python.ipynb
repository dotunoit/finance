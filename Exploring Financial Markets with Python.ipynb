{
 "cells": [
  {
   "cell_type": "markdown",
   "id": "85f44c2f",
   "metadata": {},
   "source": [
    "# Exploring Financial Markets with Python- A Simple Guide to Stock"
   ]
  },
  {
   "cell_type": "markdown",
   "id": "6a046546",
   "metadata": {},
   "source": [
    "Analyzing financial markets is a crucial aspect of informed decision-making in the world of finance. Python provides robust tools for fetching and visualizing market data, making it an invaluable asset for financial analysts. In this guide, we'll walk through a simple Python script that utilizes the yfinance library to fetch financial market data and matplotlib for plotting."
   ]
  },
  {
   "cell_type": "markdown",
   "id": "77d10a35",
   "metadata": {},
   "source": [
    "# Requirements"
   ]
  },
  {
   "cell_type": "markdown",
   "id": "5e3b9273",
   "metadata": {},
   "source": [
    "Before we delve into the financial world of Python, ensure you have the necessary libraries installed. \n",
    "You can install them using the following:"
   ]
  },
  {
   "cell_type": "markdown",
   "id": "037b08f8",
   "metadata": {},
   "source": [
    "pip install yfinance matplotlib pandas"
   ]
  },
  {
   "cell_type": "markdown",
   "id": "df700139",
   "metadata": {},
   "source": [
    "# Fetching Financial Market Data\n"
   ]
  },
  {
   "cell_type": "markdown",
   "id": "7ea75fc2",
   "metadata": {},
   "source": [
    "This Python script prompts the user to input stock symbols and a start date. The script then uses the yfinance library to download historical financial market data for each symbol."
   ]
  },
  {
   "cell_type": "code",
   "execution_count": 1,
   "id": "ba732283",
   "metadata": {},
   "outputs": [],
   "source": [
    "import yfinance as yf\n",
    "import matplotlib.pyplot as plt\n",
    "import pandas as pd\n",
    "from datetime import datetime"
   ]
  },
  {
   "cell_type": "code",
   "execution_count": null,
   "id": "8ab131bb",
   "metadata": {},
   "outputs": [],
   "source": [
    "# User input\n",
    "stock_symbols = input(\"Enter financial stock symbols separated by commas (e.g., AAPL, MSFT): \").upper().split(',')\n",
    "start_date = input(\"Enter the start date (YYYY-MM-DD): \")\n",
    "\n",
    "# Use the current date as the end date\n",
    "end_date = datetime.today().strftime('%Y-%m-%d')\n",
    "\n",
    "# Fetch financial market data for each specified stock symbol\n",
    "for symbol in stock_symbols:\n",
    "    try:\n",
    "        # Fetch data\n",
    "        stock_data = yf.download(symbol, start=start_date, end=end_date)\n",
    "        \n",
    "        # Calculate 60-day simple moving average (SMA)\n",
    "        stock_data['SMA_60'] = stock_data['Close'].rolling(window=60).mean()\n",
    "\n",
    "        # Calculate daily percentage change in closing prices\n",
    "        stock_data['Daily_Return'] = stock_data['Close'].pct_change() * 100\n",
    "\n",
    "        # Plotting\n",
    "        plt.figure(figsize=(14, 10))\n",
    "\n",
    "        # Closing Price and 60-day SMA\n",
    "        plt.subplot(2, 2, 1)\n",
    "        plt.plot(stock_data.index, stock_data['Close'], label=f'{symbol} Closing Price')\n",
    "        plt.plot(stock_data.index, stock_data['SMA_60'], label=f'{symbol} 60-day SMA', linestyle='--')\n",
    "        plt.title(f'{symbol} Closing Price and 60-day SMA')\n",
    "        plt.xlabel('Date')\n",
    "        plt.ylabel('Price (GBP)')\n",
    "        plt.legend()\n",
    "\n",
    "        # Opening Price\n",
    "        plt.subplot(2, 2, 2)\n",
    "        plt.plot(stock_data.index, stock_data['Open'], label=f'{symbol} Opening Price', color='orange')\n",
    "        plt.title(f'{symbol} Opening Price')\n",
    "        plt.xlabel('Date')\n",
    "        plt.ylabel('Price (GBP)')\n",
    "        plt.legend()\n",
    "\n",
    "        # Volume\n",
    "        plt.subplot(2, 2, 3)\n",
    "        plt.bar(stock_data.index, stock_data['Volume'], label=f'{symbol} Volume', color='green')\n",
    "        plt.title(f'{symbol} Volume')\n",
    "        plt.xlabel('Date')\n",
    "        plt.ylabel('Volume')\n",
    "        plt.legend()\n",
    "\n",
    "        # Daily Percentage Change\n",
    "        plt.subplot(2, 2, 4)\n",
    "        plt.plot(stock_data.index, stock_data['Daily_Return'], label=f'{symbol} Daily % Change', color='purple')\n",
    "        plt.title(f'{symbol} Daily Percentage Change')\n",
    "        plt.xlabel('Date')\n",
    "        plt.ylabel('% Change')\n",
    "        plt.legend()\n",
    "\n",
    "        plt.tight_layout()\n",
    "        plt.show()\n",
    "    except Exception as e:\n",
    "        print(f\"Error fetching data for {symbol}: {e}\")"
   ]
  },
  {
   "cell_type": "markdown",
   "id": "322972bf",
   "metadata": {},
   "source": [
    "# Output\n",
    "The code generates four charts for each stock symbol entered by the user, \n",
    "These charts provide a visual representation of various aspects of the selected stocks,\n",
    "such as closing and opening prices, moving averages, and daily percentage changes, allowing for a quick and intuitive analysis of their historical performance. Let’s break down each chart:"
   ]
  },
  {
   "cell_type": "markdown",
   "id": "06356a19",
   "metadata": {},
   "source": [
    "# Opening Price Chart:\n",
    "Data: This chart displays the opening prices of the selected stocks over the specified time period.\n",
    "\n",
    "Lines: The solid line represents the actual opening prices of the stock.\n",
    "\n",
    "Title and Labels: The chart has a title indicating that it shows the Opening Prices for the selected stocks. The x-axis represents the date, and the y-axis represents the opening price in USD.\n",
    "\n",
    "Legend: A legend is included to distinguish the lines corresponding to each stock."
   ]
  },
  {
   "cell_type": "markdown",
   "id": "b11dbc47",
   "metadata": {},
   "source": [
    "\n",
    "# Closing Price Chart:\n",
    "Data: This chart displays the closing prices of the selected stocks over the specified time period.\n",
    "\n",
    "Lines: The solid line represents the actual closing prices of the stock.\n",
    "\n",
    "Title and Labels: The chart has a title indicating that it shows the Closing Prices for the selected stocks. The x-axis represents the date, and the y-axis represents the closing price in USD.\n",
    "\n",
    "Legend: A legend is included to distinguish the lines corresponding to each stock.\n",
    "60-Day "
   ]
  },
  {
   "cell_type": "markdown",
   "id": "555489a5",
   "metadata": {},
   "source": [
    "# Simple Moving Average (SMA) Chart:\n",
    "Data: This chart overlays a 60-day Simple Moving Average (SMA) on top of the Closing Price chart.\n",
    "\n",
    "Lines: The solid line represents the closing prices, and the dashed line represents the 60-day SMA.\n",
    "\n",
    "Title and Labels: Similar to the Closing Price chart, but with an additional indication of the SMA.\n",
    "\n",
    "Legend: The legend distinguishes between Closing Price and 60-day SMA."
   ]
  },
  {
   "cell_type": "markdown",
   "id": "aeb9dbde",
   "metadata": {},
   "source": [
    "# Daily Percentage Change Chart:\n",
    "Data: This chart displays the daily percentage change in closing prices for the selected stocks.\n",
    "\n",
    "Lines: The solid line represents the percentage change.\n",
    "\n",
    "Title and Labels: The chart has a title indicating that it shows the Daily Percentage Change in Closing Prices for the selected stocks. The x-axis represents the date, and the y-axis represents the percentage change.\n",
    "\n",
    "Legend: A legend is included to distinguish the lines corresponding to each stock."
   ]
  },
  {
   "cell_type": "markdown",
   "id": "f93e5418",
   "metadata": {},
   "source": [
    "# The stock symbols provided above and their corresponding companies:\n",
    "AAPL: Apple Inc.\n",
    "\n",
    "AMZN: Amazon.com Inc.\n",
    "\n",
    "GOOGL: Alphabet Inc. (Google)\n",
    "\n",
    "TSLA: Tesla Inc.\n",
    "\n",
    "COMP: NASDAQ Composite Index\n",
    "\n",
    "GS: The Goldman Sachs Group Inc.\n",
    "\n",
    "META: Meta Platforms, Inc. (formerly Facebook, Inc.)\n",
    "\n",
    "MSFT: Microsoft Corporation\n",
    "\n",
    "DJIA: Dow Jones Industrial Average"
   ]
  },
  {
   "cell_type": "markdown",
   "id": "c36e852c",
   "metadata": {},
   "source": [
    "# Understanding the Code"
   ]
  },
  {
   "cell_type": "markdown",
   "id": "a88d4fc9",
   "metadata": {},
   "source": [
    "User Input: The script prompts the user to input financial stock symbols and a start date.\n",
    "\n",
    "Data Fetching: It uses yfinance to download historical financial market data for each symbol.\n",
    "\n",
    "Data Analysis: The script calculates a 60-day simple moving average (SMA) for each financial stock.\n",
    "\n",
    "Data Visualization: It uses matplotlib to plot the closing prices and the 60-day SMA.\n",
    "\n",
    "\n",
    "This Python script offers a simple yet effective way to analyze and visualize financial market prices. Whether you are a financial analyst or an enthusiast, Python can be a powerful ally in understanding and interpreting financial data. Feel free to customize the script based on your specific financial analysis needs. Happy coding!\n",
    "\n"
   ]
  },
  {
   "cell_type": "code",
   "execution_count": null,
   "id": "05986f7d",
   "metadata": {},
   "outputs": [],
   "source": []
  }
 ],
 "metadata": {
  "kernelspec": {
   "display_name": "Python 3 (ipykernel)",
   "language": "python",
   "name": "python3"
  },
  "language_info": {
   "codemirror_mode": {
    "name": "ipython",
    "version": 3
   },
   "file_extension": ".py",
   "mimetype": "text/x-python",
   "name": "python",
   "nbconvert_exporter": "python",
   "pygments_lexer": "ipython3",
   "version": "3.11.5"
  }
 },
 "nbformat": 4,
 "nbformat_minor": 5
}
